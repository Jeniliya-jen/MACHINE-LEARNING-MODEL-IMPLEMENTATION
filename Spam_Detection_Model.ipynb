{
 "cells": [
  {
   "cell_type": "code",
   "execution_count": 1,
   "id": "bc53768f-8e82-4263-b1ef-95164fc27726",
   "metadata": {},
   "outputs": [
    {
     "name": "stdout",
     "output_type": "stream",
     "text": [
      "Sample data:\n",
      "  Label                                            Message\n",
      "0   ham  Hey! Can you send me the slides from today’s c...\n",
      "1  spam     You’ve won a car, which is fully free of cost!\n",
      "2   ham                                      Work is done!\n",
      "3  spam  Congratulations! You've won a prize, click her...\n",
      "4   ham          I sent the documents yesterday, Check it!\n",
      "Accuracy: 83.33%\n",
      "\n",
      " Classification Report:\n",
      "               precision    recall  f1-score   support\n",
      "\n",
      "           0       1.00      0.71      0.83         7\n",
      "           1       0.71      1.00      0.83         5\n",
      "\n",
      "    accuracy                           0.83        12\n",
      "   macro avg       0.86      0.86      0.83        12\n",
      "weighted avg       0.88      0.83      0.83        12\n",
      "\n"
     ]
    },
    {
     "data": {
      "image/png": "[encoded data removed]",
      "text/plain": [
       "<Figure size 500x400 with 2 Axes>"
      ]
     },
     "metadata": {},
     "output_type": "display_data"
    },
    {
     "name": "stdout",
     "output_type": "stream",
     "text": [
      "\n",
      " Sample Predictions:\n",
      "\n",
      "Message 1: can class from hey me send slides the today you\n",
      "Prediction: Ham\n",
      "\n",
      "Message 2: free get now tv\n",
      "Prediction: Spam\n",
      "\n",
      "Message 3: complete documentation let the today\n",
      "Prediction: Ham\n",
      "\n",
      "Message 4: app future knows this your\n",
      "Prediction: Spam\n",
      "\n",
      "Message 5: free get lucky smartwatch winner your\n",
      "Prediction: Spam\n"
     ]
    }
   ],
   "source": [
    "# Import necessary libraries\n",
    "import pandas as pd  # For data handling\n",
    "from sklearn.model_selection import train_test_split # For splitting the dataset\n",
    "from sklearn.feature_extraction.text import CountVectorizer  # To convert text to numerical data\n",
    "from sklearn.naive_bayes import MultinomialNB # Naive Bayes model for classification\n",
    "from sklearn.metrics import accuracy_score, classification_report, confusion_matrix # Evaluation metrics\n",
    "import matplotlib.pyplot as plt  # For plotting graphs\n",
    "import seaborn as sns # For better-looking visualizations\n",
    "\n",
    "# Load the dataset\n",
    "df = pd.read_csv(\"spam_email_data.csv\")\n",
    "\n",
    "# Check the first few rows\n",
    "print(\"Sample data:\")\n",
    "print(df.head())\n",
    "\n",
    "# Rename columns \n",
    "df.columns = ['Label', 'Message'] # Ensure column names are clear\n",
    "\n",
    "# Encode labels ('ham' -> 0, 'spam' -> 1)\n",
    "df['Label'] = df['Label'].map({'ham': 0, 'spam': 1})\n",
    "\n",
    "# Separate features (X) and labels (y)\n",
    "X = df['Message']  # The email messages\n",
    "y = df['Label']    # Labels: 0 for ham, 1 for spam\n",
    "\n",
    "# Convert text to numeric features using Bag of Words\n",
    "vectorizer = CountVectorizer()\n",
    "X_vectorized = vectorizer.fit_transform(X)\n",
    "\n",
    "# Split dataset into training and testing sets\n",
    "X_train, X_test, y_train, y_test = train_test_split(\n",
    "    X_vectorized, y, test_size=0.2, random_state=42\n",
    ")\n",
    "\n",
    "# Initialize and train the Naive Bayes model\n",
    "model = MultinomialNB()\n",
    "model.fit(X_train, y_train)\n",
    "\n",
    "# Make predictions\n",
    "y_pred = model.predict(X_test)\n",
    "\n",
    "# Predict on test data\n",
    "print(\"Accuracy: {:.2f}%\".format(accuracy_score(y_test, y_pred) * 100))\n",
    "print(\"\\n Classification Report:\\n\", classification_report(y_test, y_pred))\n",
    "\n",
    "# Visualize Confusion Matrix using Seaborn heatmap\n",
    "cm = confusion_matrix(y_test, y_pred)\n",
    "plt.figure(figsize=(5, 4))\n",
    "sns.heatmap(cm, annot=True, fmt='d', cmap='mako')\n",
    "plt.title(\"Confusion Matrix\")\n",
    "plt.xlabel(\"Predicted\")\n",
    "plt.ylabel(\"Actual\")\n",
    "plt.show()\n",
    "\n",
    "# Sample predictions \n",
    "print(\"\\n Sample Predictions:\")\n",
    "X_test_text = X_test[:5].toarray()  # Get the first 5 test samples\n",
    "sample_msgs = vectorizer.inverse_transform(X_test_text)  # Convert vectors back to words\n",
    "\n",
    "for i in range(len(sample_msgs)):\n",
    "    print(f\"\\nMessage {i+1}: {' '.join(sample_msgs[i])}\")\n",
    "    print(\"Prediction:\", \"Spam\" if y_pred[i] == 1 else \"Ham\")\n"
   ]
  },
  {
   "cell_type": "code",
   "execution_count": null,
   "id": "aa9ee809-b644-4549-8826-2ff18dc8320c",
   "metadata": {},
   "outputs": [],
   "source": []
  }
 ],
 "metadata": {
  "kernelspec": {
   "display_name": "Python 3 (ipykernel)",
   "language": "python",
   "name": "python3"
  },
  "language_info": {
   "codemirror_mode": {
    "name": "ipython",
    "version": 3
   },
   "file_extension": ".py",
   "mimetype": "text/x-python",
   "name": "python",
   "nbconvert_exporter": "python",
   "pygments_lexer": "ipython3",
   "version": "3.13.2"
  }
 },
 "nbformat": 4,
 "nbformat_minor": 5
}
